{
  "cells": [
    {
      "cell_type": "code",
      "execution_count": 1,
      "metadata": {
        "id": "dPPFHa1BwnMF"
      },
      "outputs": [],
      "source": [
        "import pandas as pd\n",
        "\n",
        "link_df = pd.read_csv('/content/drive/MyDrive/data/NCKH_/Code + Data/cleaned_df.csv', index_col=0 )"
      ]
    },
    {
      "cell_type": "code",
      "execution_count": 2,
      "metadata": {
        "id": "7RHOyo0XkRCL"
      },
      "outputs": [],
      "source": [
        "link_df = link_df.set_axis(['target', 'source'], axis=1, inplace=False)"
      ]
    },
    {
      "cell_type": "code",
      "execution_count": 3,
      "metadata": {
        "colab": {
          "base_uri": "https://localhost:8080/",
          "height": 206
        },
        "id": "ZCJlbXbr7OXu",
        "outputId": "56031a35-7da0-4715-c446-ba7a4e1f2c6b"
      },
      "outputs": [
        {
          "data": {
            "text/html": [
              "\n",
              "  <div id=\"df-21536eb7-c7cf-49d4-8174-e0f7ef41fdc5\">\n",
              "    <div class=\"colab-df-container\">\n",
              "      <div>\n",
              "<style scoped>\n",
              "    .dataframe tbody tr th:only-of-type {\n",
              "        vertical-align: middle;\n",
              "    }\n",
              "\n",
              "    .dataframe tbody tr th {\n",
              "        vertical-align: top;\n",
              "    }\n",
              "\n",
              "    .dataframe thead th {\n",
              "        text-align: right;\n",
              "    }\n",
              "</style>\n",
              "<table border=\"1\" class=\"dataframe\">\n",
              "  <thead>\n",
              "    <tr style=\"text-align: right;\">\n",
              "      <th></th>\n",
              "      <th>target</th>\n",
              "      <th>source</th>\n",
              "    </tr>\n",
              "  </thead>\n",
              "  <tbody>\n",
              "    <tr>\n",
              "      <th>0</th>\n",
              "      <td>61523852c288cc4da5ee2e81</td>\n",
              "      <td>6152384cc288cc4da5ee2e80</td>\n",
              "    </tr>\n",
              "    <tr>\n",
              "      <th>1</th>\n",
              "      <td>61523852c288cc4da5ee2e81</td>\n",
              "      <td>61523858c288cc4da5ee2e82</td>\n",
              "    </tr>\n",
              "    <tr>\n",
              "      <th>2</th>\n",
              "      <td>61523852c288cc4da5ee2e81</td>\n",
              "      <td>6152385fc288cc4da5ee2e83</td>\n",
              "    </tr>\n",
              "    <tr>\n",
              "      <th>3</th>\n",
              "      <td>616880cbf6dccfb5cf3794f5</td>\n",
              "      <td>616880b7f6dccfb5cf3794f2</td>\n",
              "    </tr>\n",
              "    <tr>\n",
              "      <th>4</th>\n",
              "      <td>616880cbf6dccfb5cf3794f5</td>\n",
              "      <td>616880c0f6dccfb5cf3794f3</td>\n",
              "    </tr>\n",
              "  </tbody>\n",
              "</table>\n",
              "</div>\n",
              "      <button class=\"colab-df-convert\" onclick=\"convertToInteractive('df-21536eb7-c7cf-49d4-8174-e0f7ef41fdc5')\"\n",
              "              title=\"Convert this dataframe to an interactive table.\"\n",
              "              style=\"display:none;\">\n",
              "        \n",
              "  <svg xmlns=\"http://www.w3.org/2000/svg\" height=\"24px\"viewBox=\"0 0 24 24\"\n",
              "       width=\"24px\">\n",
              "    <path d=\"M0 0h24v24H0V0z\" fill=\"none\"/>\n",
              "    <path d=\"M18.56 5.44l.94 2.06.94-2.06 2.06-.94-2.06-.94-.94-2.06-.94 2.06-2.06.94zm-11 1L8.5 8.5l.94-2.06 2.06-.94-2.06-.94L8.5 2.5l-.94 2.06-2.06.94zm10 10l.94 2.06.94-2.06 2.06-.94-2.06-.94-.94-2.06-.94 2.06-2.06.94z\"/><path d=\"M17.41 7.96l-1.37-1.37c-.4-.4-.92-.59-1.43-.59-.52 0-1.04.2-1.43.59L10.3 9.45l-7.72 7.72c-.78.78-.78 2.05 0 2.83L4 21.41c.39.39.9.59 1.41.59.51 0 1.02-.2 1.41-.59l7.78-7.78 2.81-2.81c.8-.78.8-2.07 0-2.86zM5.41 20L4 18.59l7.72-7.72 1.47 1.35L5.41 20z\"/>\n",
              "  </svg>\n",
              "      </button>\n",
              "      \n",
              "  <style>\n",
              "    .colab-df-container {\n",
              "      display:flex;\n",
              "      flex-wrap:wrap;\n",
              "      gap: 12px;\n",
              "    }\n",
              "\n",
              "    .colab-df-convert {\n",
              "      background-color: #E8F0FE;\n",
              "      border: none;\n",
              "      border-radius: 50%;\n",
              "      cursor: pointer;\n",
              "      display: none;\n",
              "      fill: #1967D2;\n",
              "      height: 32px;\n",
              "      padding: 0 0 0 0;\n",
              "      width: 32px;\n",
              "    }\n",
              "\n",
              "    .colab-df-convert:hover {\n",
              "      background-color: #E2EBFA;\n",
              "      box-shadow: 0px 1px 2px rgba(60, 64, 67, 0.3), 0px 1px 3px 1px rgba(60, 64, 67, 0.15);\n",
              "      fill: #174EA6;\n",
              "    }\n",
              "\n",
              "    [theme=dark] .colab-df-convert {\n",
              "      background-color: #3B4455;\n",
              "      fill: #D2E3FC;\n",
              "    }\n",
              "\n",
              "    [theme=dark] .colab-df-convert:hover {\n",
              "      background-color: #434B5C;\n",
              "      box-shadow: 0px 1px 3px 1px rgba(0, 0, 0, 0.15);\n",
              "      filter: drop-shadow(0px 1px 2px rgba(0, 0, 0, 0.3));\n",
              "      fill: #FFFFFF;\n",
              "    }\n",
              "  </style>\n",
              "\n",
              "      <script>\n",
              "        const buttonEl =\n",
              "          document.querySelector('#df-21536eb7-c7cf-49d4-8174-e0f7ef41fdc5 button.colab-df-convert');\n",
              "        buttonEl.style.display =\n",
              "          google.colab.kernel.accessAllowed ? 'block' : 'none';\n",
              "\n",
              "        async function convertToInteractive(key) {\n",
              "          const element = document.querySelector('#df-21536eb7-c7cf-49d4-8174-e0f7ef41fdc5');\n",
              "          const dataTable =\n",
              "            await google.colab.kernel.invokeFunction('convertToInteractive',\n",
              "                                                     [key], {});\n",
              "          if (!dataTable) return;\n",
              "\n",
              "          const docLinkHtml = 'Like what you see? Visit the ' +\n",
              "            '<a target=\"_blank\" href=https://colab.research.google.com/notebooks/data_table.ipynb>data table notebook</a>'\n",
              "            + ' to learn more about interactive tables.';\n",
              "          element.innerHTML = '';\n",
              "          dataTable['output_type'] = 'display_data';\n",
              "          await google.colab.output.renderOutput(dataTable, element);\n",
              "          const docLink = document.createElement('div');\n",
              "          docLink.innerHTML = docLinkHtml;\n",
              "          element.appendChild(docLink);\n",
              "        }\n",
              "      </script>\n",
              "    </div>\n",
              "  </div>\n",
              "  "
            ],
            "text/plain": [
              "                     target                    source\n",
              "0  61523852c288cc4da5ee2e81  6152384cc288cc4da5ee2e80\n",
              "1  61523852c288cc4da5ee2e81  61523858c288cc4da5ee2e82\n",
              "2  61523852c288cc4da5ee2e81  6152385fc288cc4da5ee2e83\n",
              "3  616880cbf6dccfb5cf3794f5  616880b7f6dccfb5cf3794f2\n",
              "4  616880cbf6dccfb5cf3794f5  616880c0f6dccfb5cf3794f3"
            ]
          },
          "execution_count": 3,
          "metadata": {},
          "output_type": "execute_result"
        }
      ],
      "source": [
        "link_df.head()"
      ]
    },
    {
      "cell_type": "code",
      "execution_count": 4,
      "metadata": {
        "id": "4PhErbS_7R2c"
      },
      "outputs": [],
      "source": [
        "authors=pd.read_csv('/content/drive/MyDrive/data/NCKH_/Code + Data/final_3_pca.csv',index_col=0)"
      ]
    },
    {
      "cell_type": "code",
      "execution_count": 5,
      "metadata": {
        "colab": {
          "base_uri": "https://localhost:8080/",
          "height": 237
        },
        "id": "0cavi7Vv7aRU",
        "outputId": "66dd32f3-4486-454b-d6af-c26d32505012"
      },
      "outputs": [
        {
          "data": {
            "text/html": [
              "\n",
              "  <div id=\"df-10ded424-e938-4674-83e1-5ddcaa795060\">\n",
              "    <div class=\"colab-df-container\">\n",
              "      <div>\n",
              "<style scoped>\n",
              "    .dataframe tbody tr th:only-of-type {\n",
              "        vertical-align: middle;\n",
              "    }\n",
              "\n",
              "    .dataframe tbody tr th {\n",
              "        vertical-align: top;\n",
              "    }\n",
              "\n",
              "    .dataframe thead th {\n",
              "        text-align: right;\n",
              "    }\n",
              "</style>\n",
              "<table border=\"1\" class=\"dataframe\">\n",
              "  <thead>\n",
              "    <tr style=\"text-align: right;\">\n",
              "      <th></th>\n",
              "      <th>pca_0</th>\n",
              "      <th>pca_1</th>\n",
              "      <th>pca_2</th>\n",
              "      <th>pca_3</th>\n",
              "      <th>pca_4</th>\n",
              "      <th>pca_5</th>\n",
              "      <th>pca_6</th>\n",
              "      <th>pca_7</th>\n",
              "      <th>pca_8</th>\n",
              "      <th>pca_9</th>\n",
              "      <th>topic</th>\n",
              "    </tr>\n",
              "    <tr>\n",
              "      <th>Id</th>\n",
              "      <th></th>\n",
              "      <th></th>\n",
              "      <th></th>\n",
              "      <th></th>\n",
              "      <th></th>\n",
              "      <th></th>\n",
              "      <th></th>\n",
              "      <th></th>\n",
              "      <th></th>\n",
              "      <th></th>\n",
              "      <th></th>\n",
              "    </tr>\n",
              "  </thead>\n",
              "  <tbody>\n",
              "    <tr>\n",
              "      <th>614b3d356b8ee4b71c58ab7d</th>\n",
              "      <td>-0.183264</td>\n",
              "      <td>-0.243059</td>\n",
              "      <td>-0.340974</td>\n",
              "      <td>0.064406</td>\n",
              "      <td>-0.009195</td>\n",
              "      <td>0.043313</td>\n",
              "      <td>0.161301</td>\n",
              "      <td>0.073235</td>\n",
              "      <td>0.092480</td>\n",
              "      <td>-0.318844</td>\n",
              "      <td>5</td>\n",
              "    </tr>\n",
              "    <tr>\n",
              "      <th>614b3d436b8ee4b71c58ab7f</th>\n",
              "      <td>0.426354</td>\n",
              "      <td>0.288682</td>\n",
              "      <td>-0.235454</td>\n",
              "      <td>0.137301</td>\n",
              "      <td>-0.332483</td>\n",
              "      <td>0.042643</td>\n",
              "      <td>0.553443</td>\n",
              "      <td>-0.084734</td>\n",
              "      <td>-0.490196</td>\n",
              "      <td>0.135940</td>\n",
              "      <td>3</td>\n",
              "    </tr>\n",
              "    <tr>\n",
              "      <th>614b3da26b8ee4b71c58ab86</th>\n",
              "      <td>0.595626</td>\n",
              "      <td>0.264286</td>\n",
              "      <td>0.095240</td>\n",
              "      <td>0.605487</td>\n",
              "      <td>-0.374734</td>\n",
              "      <td>0.137878</td>\n",
              "      <td>-0.348286</td>\n",
              "      <td>-0.028486</td>\n",
              "      <td>-0.118190</td>\n",
              "      <td>-0.209408</td>\n",
              "      <td>5</td>\n",
              "    </tr>\n",
              "    <tr>\n",
              "      <th>614b3da86b8ee4b71c58ab87</th>\n",
              "      <td>0.595626</td>\n",
              "      <td>0.264286</td>\n",
              "      <td>0.095240</td>\n",
              "      <td>0.605487</td>\n",
              "      <td>-0.374734</td>\n",
              "      <td>0.137878</td>\n",
              "      <td>-0.348286</td>\n",
              "      <td>-0.028486</td>\n",
              "      <td>-0.118190</td>\n",
              "      <td>-0.209408</td>\n",
              "      <td>5</td>\n",
              "    </tr>\n",
              "    <tr>\n",
              "      <th>614b3dbf6b8ee4b71c58ab88</th>\n",
              "      <td>0.595626</td>\n",
              "      <td>0.264286</td>\n",
              "      <td>0.095240</td>\n",
              "      <td>0.605487</td>\n",
              "      <td>-0.374734</td>\n",
              "      <td>0.137878</td>\n",
              "      <td>-0.348286</td>\n",
              "      <td>-0.028486</td>\n",
              "      <td>-0.118190</td>\n",
              "      <td>-0.209408</td>\n",
              "      <td>5</td>\n",
              "    </tr>\n",
              "  </tbody>\n",
              "</table>\n",
              "</div>\n",
              "      <button class=\"colab-df-convert\" onclick=\"convertToInteractive('df-10ded424-e938-4674-83e1-5ddcaa795060')\"\n",
              "              title=\"Convert this dataframe to an interactive table.\"\n",
              "              style=\"display:none;\">\n",
              "        \n",
              "  <svg xmlns=\"http://www.w3.org/2000/svg\" height=\"24px\"viewBox=\"0 0 24 24\"\n",
              "       width=\"24px\">\n",
              "    <path d=\"M0 0h24v24H0V0z\" fill=\"none\"/>\n",
              "    <path d=\"M18.56 5.44l.94 2.06.94-2.06 2.06-.94-2.06-.94-.94-2.06-.94 2.06-2.06.94zm-11 1L8.5 8.5l.94-2.06 2.06-.94-2.06-.94L8.5 2.5l-.94 2.06-2.06.94zm10 10l.94 2.06.94-2.06 2.06-.94-2.06-.94-.94-2.06-.94 2.06-2.06.94z\"/><path d=\"M17.41 7.96l-1.37-1.37c-.4-.4-.92-.59-1.43-.59-.52 0-1.04.2-1.43.59L10.3 9.45l-7.72 7.72c-.78.78-.78 2.05 0 2.83L4 21.41c.39.39.9.59 1.41.59.51 0 1.02-.2 1.41-.59l7.78-7.78 2.81-2.81c.8-.78.8-2.07 0-2.86zM5.41 20L4 18.59l7.72-7.72 1.47 1.35L5.41 20z\"/>\n",
              "  </svg>\n",
              "      </button>\n",
              "      \n",
              "  <style>\n",
              "    .colab-df-container {\n",
              "      display:flex;\n",
              "      flex-wrap:wrap;\n",
              "      gap: 12px;\n",
              "    }\n",
              "\n",
              "    .colab-df-convert {\n",
              "      background-color: #E8F0FE;\n",
              "      border: none;\n",
              "      border-radius: 50%;\n",
              "      cursor: pointer;\n",
              "      display: none;\n",
              "      fill: #1967D2;\n",
              "      height: 32px;\n",
              "      padding: 0 0 0 0;\n",
              "      width: 32px;\n",
              "    }\n",
              "\n",
              "    .colab-df-convert:hover {\n",
              "      background-color: #E2EBFA;\n",
              "      box-shadow: 0px 1px 2px rgba(60, 64, 67, 0.3), 0px 1px 3px 1px rgba(60, 64, 67, 0.15);\n",
              "      fill: #174EA6;\n",
              "    }\n",
              "\n",
              "    [theme=dark] .colab-df-convert {\n",
              "      background-color: #3B4455;\n",
              "      fill: #D2E3FC;\n",
              "    }\n",
              "\n",
              "    [theme=dark] .colab-df-convert:hover {\n",
              "      background-color: #434B5C;\n",
              "      box-shadow: 0px 1px 3px 1px rgba(0, 0, 0, 0.15);\n",
              "      filter: drop-shadow(0px 1px 2px rgba(0, 0, 0, 0.3));\n",
              "      fill: #FFFFFF;\n",
              "    }\n",
              "  </style>\n",
              "\n",
              "      <script>\n",
              "        const buttonEl =\n",
              "          document.querySelector('#df-10ded424-e938-4674-83e1-5ddcaa795060 button.colab-df-convert');\n",
              "        buttonEl.style.display =\n",
              "          google.colab.kernel.accessAllowed ? 'block' : 'none';\n",
              "\n",
              "        async function convertToInteractive(key) {\n",
              "          const element = document.querySelector('#df-10ded424-e938-4674-83e1-5ddcaa795060');\n",
              "          const dataTable =\n",
              "            await google.colab.kernel.invokeFunction('convertToInteractive',\n",
              "                                                     [key], {});\n",
              "          if (!dataTable) return;\n",
              "\n",
              "          const docLinkHtml = 'Like what you see? Visit the ' +\n",
              "            '<a target=\"_blank\" href=https://colab.research.google.com/notebooks/data_table.ipynb>data table notebook</a>'\n",
              "            + ' to learn more about interactive tables.';\n",
              "          element.innerHTML = '';\n",
              "          dataTable['output_type'] = 'display_data';\n",
              "          await google.colab.output.renderOutput(dataTable, element);\n",
              "          const docLink = document.createElement('div');\n",
              "          docLink.innerHTML = docLinkHtml;\n",
              "          element.appendChild(docLink);\n",
              "        }\n",
              "      </script>\n",
              "    </div>\n",
              "  </div>\n",
              "  "
            ],
            "text/plain": [
              "                             pca_0     pca_1     pca_2     pca_3     pca_4  \\\n",
              "Id                                                                           \n",
              "614b3d356b8ee4b71c58ab7d -0.183264 -0.243059 -0.340974  0.064406 -0.009195   \n",
              "614b3d436b8ee4b71c58ab7f  0.426354  0.288682 -0.235454  0.137301 -0.332483   \n",
              "614b3da26b8ee4b71c58ab86  0.595626  0.264286  0.095240  0.605487 -0.374734   \n",
              "614b3da86b8ee4b71c58ab87  0.595626  0.264286  0.095240  0.605487 -0.374734   \n",
              "614b3dbf6b8ee4b71c58ab88  0.595626  0.264286  0.095240  0.605487 -0.374734   \n",
              "\n",
              "                             pca_5     pca_6     pca_7     pca_8     pca_9  \\\n",
              "Id                                                                           \n",
              "614b3d356b8ee4b71c58ab7d  0.043313  0.161301  0.073235  0.092480 -0.318844   \n",
              "614b3d436b8ee4b71c58ab7f  0.042643  0.553443 -0.084734 -0.490196  0.135940   \n",
              "614b3da26b8ee4b71c58ab86  0.137878 -0.348286 -0.028486 -0.118190 -0.209408   \n",
              "614b3da86b8ee4b71c58ab87  0.137878 -0.348286 -0.028486 -0.118190 -0.209408   \n",
              "614b3dbf6b8ee4b71c58ab88  0.137878 -0.348286 -0.028486 -0.118190 -0.209408   \n",
              "\n",
              "                          topic  \n",
              "Id                               \n",
              "614b3d356b8ee4b71c58ab7d      5  \n",
              "614b3d436b8ee4b71c58ab7f      3  \n",
              "614b3da26b8ee4b71c58ab86      5  \n",
              "614b3da86b8ee4b71c58ab87      5  \n",
              "614b3dbf6b8ee4b71c58ab88      5  "
            ]
          },
          "execution_count": 5,
          "metadata": {},
          "output_type": "execute_result"
        }
      ],
      "source": [
        "authors.head()"
      ]
    },
    {
      "cell_type": "code",
      "execution_count": 6,
      "metadata": {
        "colab": {
          "base_uri": "https://localhost:8080/"
        },
        "id": "0sTSFx2D8X1z",
        "outputId": "b1aadedd-a061-4a6c-dc3a-7f9effba2648"
      },
      "outputs": [
        {
          "name": "stdout",
          "output_type": "stream",
          "text": [
            "\u001b[K     |████████████████████████████████| 435 kB 14.8 MB/s \n",
            "\u001b[K     |████████████████████████████████| 500 kB 63.3 MB/s \n",
            "\u001b[K     |████████████████████████████████| 121 kB 64.7 MB/s \n",
            "\u001b[K     |████████████████████████████████| 1.6 MB 62.9 MB/s \n",
            "\u001b[K     |████████████████████████████████| 83 kB 2.6 MB/s \n",
            "\u001b[K     |████████████████████████████████| 41 kB 710 kB/s \n",
            "\u001b[?25h  Building wheel for mplleaflet (setup.py) ... \u001b[?25l\u001b[?25hdone\n"
          ]
        }
      ],
      "source": [
        "# install StellarGraph if running on Google Colab\n",
        "import sys\n",
        "if 'google.colab' in sys.modules:\n",
        "  %pip install -q stellargraph[demos]==1.2.1"
      ]
    },
    {
      "cell_type": "code",
      "execution_count": 7,
      "metadata": {
        "id": "xLJwG8Vq8iGN"
      },
      "outputs": [],
      "source": [
        "# verify that we're using the correct version of StellarGraph for this notebook\n",
        "from stellargraph import StellarDiGraph\n",
        "from stellargraph.data import EdgeSplitter\n",
        "from stellargraph.mapper import GraphSAGELinkGenerator\n",
        "from stellargraph.layer import GraphSAGE, HinSAGE, link_classification\n",
        "\n",
        "from tensorflow import keras\n",
        "from sklearn import preprocessing, feature_extraction, model_selection\n",
        "\n",
        "from stellargraph import globalvar\n",
        "from stellargraph import datasets\n",
        "from IPython.display import display, HTML\n",
        "%matplotlib inline"
      ]
    },
    {
      "cell_type": "code",
      "execution_count": 8,
      "metadata": {
        "id": "HNBfoaeYnQvG"
      },
      "outputs": [],
      "source": [
        "import networkx as nx\n",
        "\n",
        "G = nx.from_pandas_edgelist(link_df, source='source', target='target', create_using=nx.Graph())\n",
        "\n",
        "#Add node attributes to the graph\n",
        "\n",
        "for node in G.nodes():\n",
        "    try:\n",
        "        G.nodes[node]['pca'] = authors.loc[node].values.tolist()\n",
        "    except:\n",
        "        G.nodes[node]['pca'] = [0]*len(authors.columns)\n",
        "\n"
      ]
    },
    {
      "cell_type": "code",
      "execution_count": 9,
      "metadata": {
        "colab": {
          "base_uri": "https://localhost:8080/"
        },
        "id": "4Fxd5m_Cnws7",
        "outputId": "39048ca2-192e-4474-cd4a-e7ce7917e0bc"
      },
      "outputs": [
        {
          "name": "stdout",
          "output_type": "stream",
          "text": [
            "Graph with 15895 nodes and 30866 edges\n"
          ]
        },
        {
          "name": "stderr",
          "output_type": "stream",
          "text": [
            "<ipython-input-9-60d20efbd280>:1: DeprecationWarning: info is deprecated and will be removed in version 3.0.\n",
            "\n",
            "  print(nx.info(G))\n"
          ]
        }
      ],
      "source": [
        "print(nx.info(G))"
      ]
    },
    {
      "cell_type": "code",
      "execution_count": 10,
      "metadata": {
        "colab": {
          "base_uri": "https://localhost:8080/"
        },
        "id": "Ae7sqasY8TVU",
        "outputId": "a19a7e68-e882-44b8-fc12-0242c7d03bcf"
      },
      "outputs": [
        {
          "name": "stdout",
          "output_type": "stream",
          "text": [
            "StellarGraph: Undirected multigraph\n",
            " Nodes: 15895, Edges: 30866\n",
            "\n",
            " Node types:\n",
            "  default: [15895]\n",
            "    Features: float32 vector, length 11\n",
            "    Edge types: default-default->default\n",
            "\n",
            " Edge types:\n",
            "    default-default->default: [30866]\n",
            "        Weights: all 1 (default)\n",
            "        Features: none\n"
          ]
        }
      ],
      "source": [
        "from stellargraph import StellarGraph\n",
        "\n",
        "author_one_hot_subject = StellarGraph.from_networkx(G, node_features=\"pca\")\n",
        "\n",
        "print(author_one_hot_subject.info())"
      ]
    },
    {
      "cell_type": "markdown",
      "metadata": {
        "id": "A1GpdFRpicST"
      },
      "source": [
        "# Split train test"
      ]
    },
    {
      "cell_type": "code",
      "execution_count": 11,
      "metadata": {
        "colab": {
          "base_uri": "https://localhost:8080/"
        },
        "id": "FhMm-GlfuItS",
        "outputId": "26f556e4-2544-4a82-ceac-98887074daa4"
      },
      "outputs": [
        {
          "name": "stdout",
          "output_type": "stream",
          "text": [
            "** Sampled 3086 positive and 3086 negative edges. **\n"
          ]
        }
      ],
      "source": [
        "# Define an edge splitter on the original graph G:\n",
        "edge_splitter_test = EdgeSplitter(author_one_hot_subject)\n",
        "\n",
        "# Randomly sample a fraction p=0.1 of all positive links, and same number of negative links, from G, and obtain the\n",
        "# reduced graph G_test with the sampled links removed:\n",
        "G_test, edge_ids_test, edge_labels_test = edge_splitter_test.train_test_split(\n",
        "    p=0.1, method=\"global\", keep_connected=True\n",
        ")"
      ]
    },
    {
      "cell_type": "code",
      "execution_count": 12,
      "metadata": {
        "colab": {
          "base_uri": "https://localhost:8080/"
        },
        "id": "NRgDK_yAuYtL",
        "outputId": "4cfe8f31-72a5-4c5c-8011-ce9a71185be2"
      },
      "outputs": [
        {
          "name": "stdout",
          "output_type": "stream",
          "text": [
            "** Sampled 2778 positive and 2778 negative edges. **\n"
          ]
        }
      ],
      "source": [
        "# Define an edge splitter on the reduced graph G_test:\n",
        "edge_splitter_train = EdgeSplitter(G_test)\n",
        "\n",
        "# Randomly sample a fraction p=0.1 of all positive links, and same number of negative links, from G_test, and obtain the\n",
        "# reduced graph G_train with the sampled links removed:\n",
        "G_train, edge_ids_train, edge_labels_train = edge_splitter_train.train_test_split(\n",
        "    p=0.1, method=\"global\", keep_connected=True\n",
        ")"
      ]
    },
    {
      "cell_type": "code",
      "execution_count": 13,
      "metadata": {
        "colab": {
          "base_uri": "https://localhost:8080/"
        },
        "id": "rQ7wjsYSgpf8",
        "outputId": "a78aca41-ad7b-4506-9dd1-3106d1dc333c"
      },
      "outputs": [
        {
          "name": "stdout",
          "output_type": "stream",
          "text": [
            "StellarGraph: Undirected multigraph\n",
            " Nodes: 15895, Edges: 25002\n",
            "\n",
            " Node types:\n",
            "  default: [15895]\n",
            "    Features: float32 vector, length 11\n",
            "    Edge types: default-default->default\n",
            "\n",
            " Edge types:\n",
            "    default-default->default: [25002]\n",
            "        Weights: all 1 (default)\n",
            "        Features: none\n"
          ]
        }
      ],
      "source": [
        "print(G_train.info())\n"
      ]
    },
    {
      "cell_type": "code",
      "execution_count": 14,
      "metadata": {
        "colab": {
          "base_uri": "https://localhost:8080/"
        },
        "id": "XwUDoXL4gsv7",
        "outputId": "f7776a34-8390-4d24-f4ae-ffd579c56cce"
      },
      "outputs": [
        {
          "name": "stdout",
          "output_type": "stream",
          "text": [
            "StellarGraph: Undirected multigraph\n",
            " Nodes: 15895, Edges: 27780\n",
            "\n",
            " Node types:\n",
            "  default: [15895]\n",
            "    Features: float32 vector, length 11\n",
            "    Edge types: default-default->default\n",
            "\n",
            " Edge types:\n",
            "    default-default->default: [27780]\n",
            "        Weights: all 1 (default)\n",
            "        Features: none\n"
          ]
        }
      ],
      "source": [
        "print(G_test.info())"
      ]
    },
    {
      "cell_type": "code",
      "execution_count": 15,
      "metadata": {
        "id": "L0AhLT56gvVN"
      },
      "outputs": [],
      "source": [
        "batch_size = 20\n",
        "epochs = 5"
      ]
    },
    {
      "cell_type": "code",
      "execution_count": 16,
      "metadata": {
        "id": "kzvyGxNmgxnB"
      },
      "outputs": [],
      "source": [
        "num_samples = [20, 10]\n"
      ]
    },
    {
      "cell_type": "code",
      "execution_count": 17,
      "metadata": {
        "id": "LZOOLUwCgzwP"
      },
      "outputs": [],
      "source": [
        "train_gen = GraphSAGELinkGenerator(G_train, batch_size, num_samples)\n",
        "train_flow = train_gen.flow(edge_ids_train, edge_labels_train, shuffle=True)"
      ]
    },
    {
      "cell_type": "code",
      "execution_count": 18,
      "metadata": {
        "id": "9W3MbG2_g2Oz"
      },
      "outputs": [],
      "source": [
        "test_gen = GraphSAGELinkGenerator(G_test, batch_size, num_samples)\n",
        "test_flow = test_gen.flow(edge_ids_test, edge_labels_test)"
      ]
    },
    {
      "cell_type": "code",
      "execution_count": 19,
      "metadata": {
        "id": "_EeZkdaWg4W6"
      },
      "outputs": [],
      "source": [
        "layer_sizes = [20, 20]\n",
        "graphsage = GraphSAGE(\n",
        "    layer_sizes=layer_sizes, generator=train_gen, bias=True, dropout=0.3\n",
        ")"
      ]
    },
    {
      "cell_type": "code",
      "execution_count": null,
      "metadata": {
        "id": "7HZMXzvYg7qr"
      },
      "outputs": [],
      "source": [
        "# Build the model and expose input and output sockets of graphsage model\n",
        "# for link prediction\n",
        "x_inp, x_out = graphsage.in_out_tensors()"
      ]
    },
    {
      "cell_type": "code",
      "execution_count": null,
      "metadata": {
        "id": "FI2hz9Hog9Wh"
      },
      "outputs": [],
      "source": [
        "prediction = link_classification(\n",
        "    output_dim=1, output_act=\"relu\", edge_embedding_method=\"ip\"\n",
        ")(x_out)"
      ]
    },
    {
      "cell_type": "code",
      "execution_count": null,
      "metadata": {
        "id": "Ei6WNIkOg-_C"
      },
      "outputs": [],
      "source": [
        "model = keras.Model(inputs=x_inp, outputs=prediction)\n",
        "\n",
        "model.compile(\n",
        "    optimizer=keras.optimizers.Adam(learning_rate=1e-3),\n",
        "    loss=keras.losses.binary_crossentropy,\n",
        "    metrics=[\"acc\"],\n",
        ")"
      ]
    },
    {
      "cell_type": "code",
      "execution_count": null,
      "metadata": {
        "id": "vQsaL0JNM7Lj"
      },
      "outputs": [],
      "source": [
        "model.summary()"
      ]
    },
    {
      "cell_type": "code",
      "execution_count": null,
      "metadata": {
        "id": "XsC8fTmzObG8"
      },
      "outputs": [],
      "source": [
        "from keras.models import Sequential\n",
        "from keras.layers import Dense\n",
        "from keras.utils.vis_utils import plot_model\n",
        "\n",
        "plot_model(model, to_file='model_plot.png', show_shapes=True, show_layer_names=True)"
      ]
    },
    {
      "cell_type": "code",
      "execution_count": null,
      "metadata": {
        "id": "JzWseKCOhBHi"
      },
      "outputs": [],
      "source": [
        "init_train_metrics = model.evaluate(train_flow)\n",
        "init_test_metrics = model.evaluate(test_flow)\n",
        "\n",
        "print(\"\\nTrain Set Metrics of the initial (untrained) model:\")\n",
        "for name, val in zip(model.metrics_names, init_train_metrics):\n",
        "    print(\"\\t{}: {:0.4f}\".format(name, val))\n",
        "\n",
        "print(\"\\nTest Set Metrics of the initial (untrained) model:\")\n",
        "for name, val in zip(model.metrics_names, init_test_metrics):\n",
        "    print(\"\\t{}: {:0.4f}\".format(name, val))"
      ]
    },
    {
      "cell_type": "code",
      "execution_count": null,
      "metadata": {
        "id": "N5qHT2dchCdC"
      },
      "outputs": [],
      "source": [
        "%%time\n",
        "history = model.fit(train_flow, epochs=epochs, validation_data=test_flow, verbose=2)\n"
      ]
    },
    {
      "cell_type": "code",
      "execution_count": null,
      "metadata": {
        "id": "F6r4P-N385Rw"
      },
      "outputs": [],
      "source": [
        "print(history.history.keys())"
      ]
    },
    {
      "cell_type": "code",
      "execution_count": null,
      "metadata": {
        "id": "bjVKi3Tr88-F"
      },
      "outputs": [],
      "source": [
        "# summarize history for accuracy\n",
        "import matplotlib.pyplot as plt\n",
        "\n",
        "plt.plot(history.history['acc'])\n",
        "plt.plot(history.history['val_acc'])\n",
        "plt.title('model accuracy')\n",
        "plt.ylabel('accuracy')\n",
        "plt.xlabel('epoch')\n",
        "plt.legend(['train', 'test'], loc='upper left')\n",
        "plt.grid()\n",
        "plt.show()\n",
        "# summarize history for loss\n",
        "plt.plot(history.history['loss'])\n",
        "plt.plot(history.history['val_loss'])\n",
        "plt.title('model loss')\n",
        "plt.ylabel('loss')\n",
        "plt.xlabel('epoch')\n",
        "plt.legend(['train', 'test'], loc='upper left')\n",
        "plt.grid()\n",
        "plt.show()"
      ]
    },
    {
      "cell_type": "code",
      "execution_count": null,
      "metadata": {
        "id": "K8eyHTlRhFjl"
      },
      "outputs": [],
      "source": [
        "train_metrics = model.evaluate(train_flow)\n",
        "test_metrics = model.evaluate(test_flow)\n",
        "\n",
        "print(\"\\nTrain Set Metrics of the trained model:\")\n",
        "for name, val in zip(model.metrics_names, train_metrics):\n",
        "    print(\"\\t{}: {:0.4f}\".format(name, val))\n",
        "\n",
        "print(\"\\nTest Set Metrics of the trained model:\")\n",
        "for name, val in zip(model.metrics_names, test_metrics):\n",
        "    print(\"\\t{}: {:0.4f}\".format(name, val))"
      ]
    },
    {
      "cell_type": "markdown",
      "metadata": {
        "id": "gCPa2duZtiyb"
      },
      "source": [
        "Classification report"
      ]
    },
    {
      "cell_type": "code",
      "execution_count": null,
      "metadata": {
        "id": "7EjdwXestk34"
      },
      "outputs": [],
      "source": [
        "from sklearn.metrics import classification_report\n",
        "predicted_link = model.predict(test_flow, workers=1, verbose=0)\n",
        "predicted_link = predicted_link.squeeze()\n",
        "predicted_link = predicted_link.tolist()"
      ]
    },
    {
      "cell_type": "code",
      "execution_count": null,
      "metadata": {
        "id": "9oX96FxJj-Q3"
      },
      "outputs": [],
      "source": [
        "predicted_link = [1 if x > 0.5 else 0 for x in predicted_link]\n",
        "print(classification_report(predicted_link,edge_labels_test))"
      ]
    },
    {
      "cell_type": "code",
      "execution_count": null,
      "metadata": {
        "id": "3a3FFXCD6STl"
      },
      "outputs": [],
      "source": [
        "predicted_link_df = pd.DataFrame({\"source\":edge_ids_test[:,0], \"target\":edge_ids_test[:,1], \"link\":predicted_link})\n",
        "G_test_nx = G_test.to_networkx()\n",
        "G_test_nx.add_edges_from(predicted_link_df[predicted_link_df[\"link\"]==1][[\"source\", \"target\"]].values.tolist())\n"
      ]
    },
    {
      "cell_type": "code",
      "execution_count": null,
      "metadata": {
        "id": "vQ9F5yhE6Th-"
      },
      "outputs": [],
      "source": [
        "print(nx.info(G_test_nx))"
      ]
    },
    {
      "cell_type": "code",
      "execution_count": null,
      "metadata": {
        "id": "m5EGfGP16_bt"
      },
      "outputs": [],
      "source": [
        "df_authors=pd.read_csv('/content/drive/MyDrive/data/NCKH_/Code + Data/WordMap/Author_Institute_Lat_Long_Topic.csv',index_col=0)"
      ]
    },
    {
      "cell_type": "code",
      "execution_count": null,
      "metadata": {
        "id": "wgaHaSWC6U0M"
      },
      "outputs": [],
      "source": [
        "\n",
        "f = plt.figure(figsize=(15,15))\n",
        "nx.draw(G_test_nx, node_size=3, node_color=df_authors[\"topic\"].map(lambda x: hash(x) % 20),pos=nx.spring_layout(G_test_nx), ax=f.add_subplot(111))\n",
        "f.savefig(\"/content/drive/MyDrive/data/NCKH_/Code + Data/Image/GraphSage_100.png\")"
      ]
    },
    {
      "cell_type": "markdown",
      "metadata": {
        "id": "D-wVs-CAsV9G"
      },
      "source": [
        "# Worlmap Plot"
      ]
    },
    {
      "cell_type": "code",
      "execution_count": null,
      "metadata": {
        "id": "ryIekTM5sZk8"
      },
      "outputs": [],
      "source": [
        "edge_ids_test=edge_ids_test.tolist()\n",
        "print(edge_ids_test)"
      ]
    },
    {
      "cell_type": "code",
      "execution_count": null,
      "metadata": {
        "id": "EAgdsumosgBT"
      },
      "outputs": [],
      "source": [
        "test_df=pd.DataFrame(edge_ids_test,columns=['source','target'])\n",
        "test_df['label']=edge_labels_test\n",
        "test_df=test_df[test_df['label']==1]\n",
        "\n",
        "#drop the test_df column\n",
        "test_df=test_df.drop(['label'], axis=1)\n",
        "#reset the index\n",
        "test_df=test_df.reset_index(drop=True)\n",
        "\n",
        "list_test=test_df.values.tolist()\n",
        "new_list=[]\n",
        "\n",
        "for i in link_df.values.tolist():\n",
        "    if i not in list_test:\n",
        "        new_list.append(i)\n",
        "\n",
        "new_link_df=pd.DataFrame(new_list,columns=['source','target'])"
      ]
    },
    {
      "cell_type": "code",
      "execution_count": null,
      "metadata": {
        "id": "YyFMeIWvxdej"
      },
      "outputs": [],
      "source": [
        "# datafame with list_link_remove and predicted_link\n",
        "predicted_df=pd.DataFrame(edge_ids_test, columns = ['source', 'target'])\n",
        "\n",
        "predicted_df['predicted_link']=predicted_link\n",
        "\n",
        "#remove the predicted link 0\n",
        "predicted_df=predicted_df[predicted_df['predicted_link']==1]\n",
        "\n",
        "#drop the predicted_link column\n",
        "predicted_df=predicted_df.drop(['predicted_link'], axis=1)\n",
        "\n",
        "#reset the index\n",
        "predicted_df=predicted_df.reset_index(drop=True)\n",
        "\n",
        "predicted_df.head()"
      ]
    },
    {
      "cell_type": "code",
      "execution_count": null,
      "metadata": {
        "id": "nHskpP4ox-hy"
      },
      "outputs": [],
      "source": [
        "#edge trace\n",
        "from tqdm import tqdm\n",
        "Longitude_source=[]\n",
        "\n",
        "Latitude_source=[]\n",
        "\n",
        "Longitude_target=[]\n",
        "\n",
        "Latitude_target=[]\n",
        "\n",
        "for i in tqdm(range(len(predicted_df))):\n",
        "    \n",
        "    source=predicted_df['source'][i]\n",
        "    #print(source)\n",
        "    target=predicted_df['target'][i]\n",
        "    #print(target)\n",
        "    Longitude_source.append(df_authors[df_authors['Author']==source]['Longitude'].values[0])\n",
        "    Latitude_source.append(df_authors[df_authors['Author']==source]['Latitude'].values[0])\n",
        "    Longitude_target.append(df_authors[df_authors['Author']==target]['Longitude'].values[0])\n",
        "    Latitude_target.append(df_authors[df_authors['Author']==target]['Latitude'].values[0])\n",
        "    "
      ]
    },
    {
      "cell_type": "code",
      "execution_count": null,
      "metadata": {
        "id": "n87rmMV6zkzK"
      },
      "outputs": [],
      "source": [
        "#edge trace following new_link_df\n",
        "from tqdm import tqdm\n",
        "Longitude_node1 = []\n",
        "Latitude_node1 = []\n",
        "\n",
        "Longitude_node2 = []\n",
        "Latitude_node2 = []\n",
        "\n",
        "for i in tqdm(range(len(new_link_df))):\n",
        "    Longitude_node1.append(df_authors[df_authors['Author']==new_link_df['source'][i]]['Longitude'].values[0])\n",
        "    Latitude_node1.append(df_authors[df_authors['Author']==new_link_df['source'][i]]['Latitude'].values[0])\n",
        "    \n",
        "    Longitude_node2.append(df_authors[df_authors['Author']==new_link_df['target'][i]]['Longitude'].values[0])\n",
        "    Latitude_node2.append(df_authors[df_authors['Author']==new_link_df['target'][i]]['Latitude'].values[0])\n",
        "    "
      ]
    },
    {
      "cell_type": "code",
      "execution_count": null,
      "metadata": {
        "id": "xhb9Gcw410OB"
      },
      "outputs": [],
      "source": [
        "# Visualize the network earth map\n",
        "\n",
        "import plotly.graph_objects as go\n",
        "import networkx as nx\n",
        "import pandas as pd\n",
        "import numpy as np\n",
        "import matplotlib.pyplot as plt\n",
        "import plotly.express as px\n",
        "\n",
        "#edge trace \n",
        "\n",
        "edge_trace = go.Scattergeo(\n",
        "    lon = Longitude_node1+Longitude_node2,\n",
        "    lat = Latitude_node1+Latitude_node2,\n",
        "    mode = 'lines',\n",
        "    line = dict(width = 0.05, color = 'blue'),\n",
        "    hoverinfo = 'none',\n",
        "    opacity = 0.1\n",
        ")\n",
        "\n",
        "edge_trace_predicted = go.Scattergeo(\n",
        "    lon = Longitude_source+Longitude_target,\n",
        "    lat = Latitude_source+Latitude_target,\n",
        "    #dash = 'dash',\n",
        "    mode = 'lines',\n",
        "    line = dict(width = 0.2, color = 'red'),\n",
        "    hoverinfo = 'none',\n",
        "    opacity = 0.1\n",
        ")\n",
        "\n",
        "merge_edge_trace = [edge_trace, edge_trace_predicted]\n",
        "\n",
        "#node trace\n",
        "node_trace = go.Scattergeo(\n",
        "    lon = df_authors['Longitude'],\n",
        "    lat = df_authors['Latitude'],\n",
        "    mode = 'markers',\n",
        "    hoverinfo = 'text',\n",
        "    marker = dict(\n",
        "        size = 2,\n",
        "        # map color to topic\n",
        "        color = df_authors['topic'].map(lambda x: hash(x) % 20),\n",
        "        line_width = 0.5,\n",
        "        sizemode = 'area'\n",
        "    )\n",
        ")\n",
        "node_trace.text = df_authors['Institute']\n",
        "\n",
        "fig = go.Figure(data=[node_trace,edge_trace_predicted, edge_trace],\n",
        "    layout=go.Layout(\n",
        "        title_text = 'Co-authorship network of authors',\n",
        "        showlegend = False,\n",
        "        geo = dict(\n",
        "\n",
        "            scope = 'world',\n",
        "            projection_type = 'equirectangular',\n",
        "            showland = True,\n",
        "            landcolor = 'rgb(217, 217, 217)',\n",
        "            subunitwidth = 1,\n",
        "            countrywidth = 1,\n",
        "            subunitcolor = \"rgb(255, 255, 255)\",\n",
        "            countrycolor = \"rgb(255, 255, 255)\"\n",
        "        ),\n",
        "    )\n",
        ")\n",
        "\n",
        "fig.show()\n",
        "# to html\n",
        "fig.write_html('Network_Map.html')\n"
      ]
    },
    {
      "cell_type": "code",
      "execution_count": null,
      "metadata": {
        "id": "freagQaKU-z0"
      },
      "outputs": [],
      "source": [
        "from stellargraph.mapper import GraphSAGELinkGenerator, GraphSAGENodeGenerator\n",
        "# Build the model to predict node representations from node features with the learned GraphSAGE model parameters\n",
        "x_inp_src = x_inp[0::2]\n",
        "x_out_src = x_out[0]\n",
        "embedding_model = keras.Model(inputs=x_inp_src, outputs=x_out_src)\n",
        "graph_node_list = list(G_train.nodes())\n",
        "# Get representations for all nodes in ``graph``\n",
        "node_gen = GraphSAGENodeGenerator(G_train, batch_size, num_samples).flow(graph_node_list)\n",
        "node_embeddings = embedding_model.predict(node_gen, workers=1, verbose=0)"
      ]
    },
    {
      "cell_type": "code",
      "execution_count": null,
      "metadata": {
        "id": "SRZVqqUN-VUn"
      },
      "outputs": [],
      "source": [
        "node_embeddings[1]"
      ]
    }
  ],
  "metadata": {
    "accelerator": "GPU",
    "colab": {
      "provenance": []
    },
    "gpuClass": "standard",
    "kernelspec": {
      "display_name": "base",
      "language": "python",
      "name": "python3"
    },
    "language_info": {
      "name": "python",
      "version": "3.9.13 (main, Oct 13 2022, 21:23:06) [MSC v.1916 64 bit (AMD64)]"
    },
    "vscode": {
      "interpreter": {
        "hash": "b895285abb52695ec6ca1c961869f79eecea18e9005e064c900d9ad6c7b9b570"
      }
    }
  },
  "nbformat": 4,
  "nbformat_minor": 0
}
